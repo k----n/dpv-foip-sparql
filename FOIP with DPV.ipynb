{
 "cells": [
  {
   "cell_type": "markdown",
   "metadata": {},
   "source": [
    "# <span style=\"color:red\">This is a work in progress and in no way a complete example of using DPV</span>\n",
    "\n",
    "## Background\n",
    "\n",
    "FOIP ACT is the Freedom of Information and Protection of Privacy Act that **public bodies** must obide by in Alberta, Canada.\n",
    "\n",
    "FOIP covers the handling of personal information.\n",
    "\n",
    "In FOIP, personal information is defined to be, \"recorded information about an identifiable individual. It is information that can identify an individual (for example, name, home address, home phone number, e-mail address, ID numbers), and information about an individual (for example, physical description, educational qualifications, blood type).\"\n",
    "\n",
    "It should be noted that, \"the definition of personal information does not include information about a sole proprietorship, partnership, unincorporated association or corporation.\"\n",
    "\n",
    "The mapping of data handling policy is mapped according to \"FOIP Guidelines and Practices: 2009 Edition Chapter 7: Protection of Privacy\" (https://web.archive.org/web/20160615221611/https://www.servicealberta.ca/foip/documents/chapter7.pdf)."
   ]
  },
  {
   "cell_type": "markdown",
   "metadata": {},
   "source": [
    "## Use Case: Municipal Census\n",
    "\n",
    "Censuses are conducted by municipalities for the planning of public services.\n",
    "\n",
    "Under the requires guidelines for set by the Alberta Government in 2019 (https://web.archive.org/web/20190929185839/https://open.alberta.ca/dataset/ebee0c79-a9eb-4bf5-993d-30995a2f7554/resource/61613571-e381-4c4e-9f11-2bfe6823ef81/download/2019-municipal-census-manual.pdf), it suggests following a questionaire similar to this (https://web.archive.org/web/20191218172659/http://www.statcan.gc.ca/eng/statistical-programs/instrument/3901_Q8_V1-eng.pdf).\n",
    "\n",
    "For our use case, we follow the questionaire in the above paragraph to identify the personal information collected.\n",
    "We assume that the municipal census is conducted in Alberta, and therefore must abide by the FOIP Act.\n",
    "\n",
    "### Data Handling Policies\n",
    "\n",
    "We provide 2 different data handling policies: (1) for internal use that contains non-aggreate data, (2) for external publication which only includes aggregate data.\n",
    "\n",
    "These 2 data handling policies contain the same data subject(s), data controller, and legal basis.\n",
    "\n",
    "Differing is the processing, purpose, personal data categories, recipients, and technical organisational measure.\n",
    "\n",
    "#### Internal Use\n",
    "\n",
    "\n",
    "#### External Publication\n"
   ]
  },
  {
   "cell_type": "markdown",
   "metadata": {},
   "source": [
    "## 1. Importing the DPV"
   ]
  },
  {
   "cell_type": "code",
   "execution_count": 1,
   "metadata": {
    "scrolled": true
   },
   "outputs": [],
   "source": [
    "from rdflib import Graph, Literal, Namespace, URIRef\n",
    "from rdflib.namespace import RDF, RDFS\n",
    "g = Graph()\n",
    "\n",
    "# import DPV\n",
    "DPV = Namespace(\"http://w3.org/ns/dpv#\")\n",
    "# g.parse('https://www.w3.org/ns/dpv.ttl', format='turtle')"
   ]
  },
  {
   "cell_type": "markdown",
   "metadata": {},
   "source": [
    "## 2. Creating Personal Data Handling Policy"
   ]
  },
  {
   "cell_type": "code",
   "execution_count": 2,
   "metadata": {},
   "outputs": [],
   "source": [
    "# Personal Data Handling Policy\n",
    "# For the use case we consider an internal and external data handling policy\n",
    "\n",
    "policy = Namespace(\"http://example.org/policy/\")\n",
    "\n",
    "# Create internal policy\n",
    "g.add( (policy.Internal, RDF.type, DPV.PersonalDataHandling) )\n",
    "\n",
    "# Create external policy\n",
    "g.add( (policy.External, RDF.type, DPV.PersonalDataHandling) )"
   ]
  },
  {
   "cell_type": "markdown",
   "metadata": {},
   "source": [
    "## 3. Assigning a Data Subject"
   ]
  },
  {
   "cell_type": "code",
   "execution_count": 3,
   "metadata": {},
   "outputs": [],
   "source": [
    "# Data Subject\n",
    "# According to FOIP, the data subject will be the person that has personal information collected by a public body\n",
    "# Note that there should be many more data subjects (as more than one persons' data is collected),\n",
    "#    but we stick with using 'Bob' for this example.\n",
    "\n",
    "# create a people namespace, with Bob\n",
    "person = Namespace(\"http://example.org/people/\")\n",
    "g.add( (person.bob, RDF.type, DPV.DataSubject) )\n",
    "\n",
    "# Add to the policies\n",
    "g.add( (policy.Internal, DPV.hasDataSubject, person.bob) )\n",
    "g.add( (policy.External, DPV.hasDataSubject, person.bob) )"
   ]
  },
  {
   "cell_type": "markdown",
   "metadata": {},
   "source": [
    "## 4. Assigning a Data Controller"
   ]
  },
  {
   "cell_type": "code",
   "execution_count": 4,
   "metadata": {},
   "outputs": [],
   "source": [
    "# Data Controller\n",
    "# From DPV: The class of Data Controllers that control this particular data handling, \n",
    "#     any legal entity that is defined by article 4.7 of GDPR.\n",
    "#\n",
    "# In the context of a municipal census, under FOIP, the data controller would be the public body \n",
    "#     which is the municipality\n",
    "\n",
    "# create an organization namespace, with City of Edmonton\n",
    "org = Namespace(\"http://example.org/organization/\")\n",
    "g.add( (org.Edmonton, RDF.type, DPV.DataController) )\n",
    "\n",
    "# Add to the policies\n",
    "g.add( (policy.Internal, DPV.hasDataController, org.Edmonton) )\n",
    "g.add( (policy.External, DPV.hasDataController, org.Edmonton) )"
   ]
  },
  {
   "cell_type": "markdown",
   "metadata": {},
   "source": [
    "## 5. Assigning a Legal Basis"
   ]
  },
  {
   "cell_type": "code",
   "execution_count": 5,
   "metadata": {},
   "outputs": [],
   "source": [
    "# Legal Basis\n",
    "# From DPV: A particular legal Basis, which permits personal Data handling (e.g., Consent, etc.)\n",
    "\n",
    "# There is no ontology for FOIP, we create a placeholder\n",
    "legal = Namespace(\"http://example.org/legal/\")\n",
    "g.add( (legal.FOIP, RDF.type, DPV.Consent) )\n",
    "\n",
    "# In the census there is an option to make data available 100+ years in the future\n",
    "# Under FOIP, if you agree to release information for public use then it is allowed\n",
    "# Assume that https://www.servicealberta.ca/foip/legislation/foip-act.cfm is the consent notice\n",
    "g.add( (legal.FOIP, DPV.consentNotice, URIRef('https://www.servicealberta.ca/foip/legislation/foip-act.cfm')) )\n",
    "\n",
    "# Add to the policies\n",
    "g.add( (policy.Internal, DPV.hasLegalBasis, legal.FOIP) )\n",
    "g.add( (policy.External, DPV.hasLegalBasis, legal.FOIP) )"
   ]
  },
  {
   "cell_type": "markdown",
   "metadata": {},
   "source": [
    "## 6. Determining Purposes"
   ]
  },
  {
   "cell_type": "code",
   "execution_count": 6,
   "metadata": {},
   "outputs": [],
   "source": [
    "# Purpose\n",
    "\n",
    "# Namespace for Purpose\n",
    "purpose = Namespace(\"http://example.org/purpose/\")\n",
    "\n",
    "# Internal\n",
    "g.add( (purpose.CitizenStatistics, RDFS.subClassOf,DPV.ServiceProvision) )\n",
    "g.add( (purpose.CitizenStatistics, RDFS.subClassOf,DPV.ServiceOptimization) )\n",
    "g.add( (purpose.CitizenStatistics, RDFS.subClassOf,DPV.ResearchAndDevelopment) )\n",
    "g.add( (purpose.CitizenStatistics, RDFS.subClassOf,DPV.OptimisationForController) )\n",
    "g.add( (purpose.CitizenStatistics, RDFS.subClassOf,DPV.InternalResourceOptimisation) )\n",
    "g.add( (purpose.CitizenStatistics, RDFS.label, Literal(\"Citizen Statistics\")) )\n",
    "g.add( (purpose.CitizenStatistics, RDFS.comment, Literal(\"Citizen statistics to deliver and optimize municipal services\")) )\n",
    "\n",
    "g.add( (policy.Internal, DPV.hasPurpose, purpose.CitizenStatistics) )\n",
    "\n",
    "# External\n",
    "# The maintain purpose for the external policy is public education throught insights, but there is no such class.\n",
    "# Most closely related is dpv:SellInsightsFromData, even though the insights provided are free\n",
    "#    e.g. https://www.edmonton.ca/city_government/facts_figures/municipal-census-results.aspx\n",
    "# Perhaps the 'Sell' purposes should be more generalized?\n",
    "g.add( (purpose.PublicCitizenStatistics, RDFS.subClassOf, DPV.SellInsightsFromData) )\n",
    "g.add( (purpose.PublicCitizenStatistics, RDFS.label, Literal(\"Public Citizen Statistics\")) )\n",
    "g.add( (purpose.PublicCitizenStatistics, RDFS.comment, Literal(\"Provide aggregate statistics on municipal census data\")) )\n",
    "\n",
    "g.add( (policy.External, DPV.hasPurpose, purpose.CitizenStatistics) )"
   ]
  },
  {
   "cell_type": "markdown",
   "metadata": {},
   "source": [
    "## 7. Determining how Data Is Processed"
   ]
  },
  {
   "cell_type": "code",
   "execution_count": 7,
   "metadata": {},
   "outputs": [],
   "source": [
    "# Processing\n",
    "\n",
    "# Use the top-level classes of DPV: Disclose, Copy, Obtain, Remove, Store, Transfer, and Transform\n",
    "# You can also define more specific processing categories for DPV\n",
    "\n",
    "# Internal\n",
    "g.add( (policy.Internal, DPV.hasProcessing, DPV.Disclose) )\n",
    "g.add( (policy.Internal, DPV.hasProcessing, DPV.Copy) )\n",
    "g.add( (policy.Internal, DPV.hasProcessing, DPV.Obtain) )\n",
    "g.add( (policy.Internal, DPV.hasProcessing, DPV.Remove) )\n",
    "g.add( (policy.Internal, DPV.hasProcessing, DPV.Store) )\n",
    "g.add( (policy.Internal, DPV.hasProcessing, DPV.Transfer) )\n",
    "g.add( (policy.Internal, DPV.hasProcessing, DPV.Transform) )\n",
    "\n",
    "# External\n",
    "g.add( (policy.External, DPV.hasProcessing, DPV.Disclose) )\n",
    "g.add( (policy.External, DPV.hasProcessing, DPV.Transform) )"
   ]
  },
  {
   "cell_type": "markdown",
   "metadata": {},
   "source": [
    "## 8. Determining Personal Data Categories"
   ]
  },
  {
   "cell_type": "code",
   "execution_count": 8,
   "metadata": {},
   "outputs": [],
   "source": [
    "# Personal Data Categories\n",
    "\n",
    "# Personal data collected is based on\n",
    "#     https://web.archive.org/web/20191218172659/http://www.statcan.gc.ca/eng/statistical-programs/instrument/3901_Q8_V1-eng.pdf\n",
    "\n",
    "# Internal\n",
    "# missing mode of transportation, date of birth, country of origin\n",
    "# has some generalized categories\n",
    "g.add( (policy.Internal, DPV.hasPersonalDataCategory, DPV.HouseOwned) ) # residence\n",
    "g.add( (policy.Internal, DPV.hasPersonalDataCategory, DPV.LifeHistory) ) # place of origin, work history, birth date\n",
    "g.add( (policy.Internal, DPV.hasPersonalDataCategory, DPV.Family) ) # individual’s family and relationships, marital status\n",
    "g.add( (policy.Internal, DPV.hasPersonalDataCategory, DPV.Professional) ) # individual’s educational or professional career\n",
    "g.add( (policy.Internal, DPV.hasPersonalDataCategory, DPV.Contact) ) # telephone number, email, address\n",
    "g.add( (policy.Internal, DPV.hasPersonalDataCategory, DPV.MedicalHealth) ) # disability, heath condition\n",
    "g.add( (policy.Internal, DPV.hasPersonalDataCategory, DPV.Demographic) )\n",
    "g.add( (policy.Internal, DPV.hasPersonalDataCategory, DPV.Name) )\n",
    "g.add( (policy.Internal, DPV.hasPersonalDataCategory, DPV.Age) )\n",
    "g.add( (policy.Internal, DPV.hasPersonalDataCategory, DPV.Language) )\n",
    "g.add( (policy.Internal, DPV.hasPersonalDataCategory, DPV.Gender) )\n",
    "\n",
    "# External\n",
    "# In the external census, not all information collected is released\n",
    "# Example of information released: https://www.edmonton.ca/city_government/facts_figures/municipal-census-results.aspx\n",
    "g.add( (policy.External, DPV.hasPersonalDataCategory, DPV.Age) )\n",
    "g.add( (policy.External, DPV.hasPersonalDataCategory, DPV.Gender) )\n",
    "g.add( (policy.External, DPV.hasPersonalDataCategory, DPV.HouseOwned) )"
   ]
  },
  {
   "cell_type": "markdown",
   "metadata": {},
   "source": [
    "## 9. Determining Recipients"
   ]
  },
  {
   "cell_type": "code",
   "execution_count": 9,
   "metadata": {},
   "outputs": [],
   "source": [
    "# Recipient\n",
    "# From DPV: The entities that can access the result of a data handling action/processing, \n",
    "#     any legal entity that is defined by article 4.9 of GDPR, which states - 'recipient' means a natural \n",
    "#     or legal person, public authority, agency or another body, to which the personal data are disclosed, \n",
    "#     whether a third party or not.\n",
    "\n",
    "# Internal\n",
    "# Data is meant for organizational use\n",
    "g.add( (org.Edmonton, RDF.type, DPV.Recipient) ) # Both controller and recipient\n",
    "g.add( (policy.Internal, DPV.hasRecipient, org.Edmonton) )\n",
    "\n",
    "# External\n",
    "# Assume that General Public is a body and therefore a recipient\n",
    "g.add( (org.GeneralPublic, RDF.type, DPV.Recipient) )\n",
    "g.add( (policy.External, DPV.hasRecipient, org.GeneralPublic) )"
   ]
  },
  {
   "cell_type": "markdown",
   "metadata": {},
   "source": [
    "## 10. Technical Organisational Measures"
   ]
  },
  {
   "cell_type": "code",
   "execution_count": 10,
   "metadata": {},
   "outputs": [],
   "source": [
    "# Technical Organisational Measures\n",
    "# From DPV: Technical and organisational measures, for instance security measure, \n",
    "#      storage restrictions etc. required/followed when processing data of the declared category\n",
    "\n",
    "# Internal\n",
    "g.add( (policy.Internal, DPV.hasTechnicalOrganisationalMeasure, DPV.AuthorisationProcedure) )\n",
    "g.add( (policy.Internal, DPV.hasTechnicalOrganisationalMeasure, DPV.CodeOfConduct) )\n",
    "g.add( (policy.Internal, DPV.hasTechnicalOrganisationalMeasure, DPV.Contract) )\n",
    "g.add( (policy.Internal, DPV.hasTechnicalOrganisationalMeasure, DPV.NDA) )\n",
    "g.add( (policy.Internal, DPV.hasTechnicalOrganisationalMeasure, DPV.StaffTraining) )\n",
    "\n",
    "# External\n",
    "# Privacy is by deisgn as data is aggregated before release\n",
    "g.add( (policy.External, DPV.hasTechnicalOrganisationalMeasure, DPV.PrivacyByDesign) )"
   ]
  },
  {
   "cell_type": "code",
   "execution_count": 11,
   "metadata": {},
   "outputs": [],
   "source": [
    "# Export data handling policies to a graph\n",
    "\n",
    "g.serialize(\"dpv-foip.ttl\", format=\"turtle\")"
   ]
  },
  {
   "cell_type": "code",
   "execution_count": 12,
   "metadata": {},
   "outputs": [],
   "source": [
    "# How to query with SPARQL\n",
    "# qres = g.query(\n",
    "#     \"\"\"\n",
    "#     SELECT ?policy\n",
    "#        WHERE {\n",
    "#           ?policy a dpv:PersonalDataHandling .\n",
    "#        }\n",
    "#     \"\"\")\n",
    "\n",
    "# for row in qres:\n",
    "#     print(row)"
   ]
  }
 ],
 "metadata": {
  "kernelspec": {
   "display_name": "Python 3",
   "language": "python",
   "name": "python3"
  },
  "language_info": {
   "codemirror_mode": {
    "name": "ipython",
    "version": 3
   },
   "file_extension": ".py",
   "mimetype": "text/x-python",
   "name": "python",
   "nbconvert_exporter": "python",
   "pygments_lexer": "ipython3",
   "version": "3.7.4"
  }
 },
 "nbformat": 4,
 "nbformat_minor": 2
}
